{
 "cells": [
  {
   "cell_type": "markdown",
   "metadata": {},
   "source": [
    "\n",
    "1. Create a series object from a list of 10 items using a customized index values\n",
    "2. Create a Series object from a dictionary of 10 items \n",
    "3. Create a DataFrame object from a series object with customized index values\n",
    "4. Create a DataFrame object generated from random values of 5 rows and 5 columns numpy array. Give each column a title and each index a name\n",
    "5. Separate the DataFrame in (4) to its individual index , values and columns\n",
    "\n"
   ]
  },
  {
   "cell_type": "code",
   "execution_count": 1,
   "metadata": {},
   "outputs": [],
   "source": [
    "import numpy as np\n",
    "import pandas as pd"
   ]
  },
  {
   "cell_type": "code",
   "execution_count": 4,
   "metadata": {},
   "outputs": [
    {
     "data": {
      "text/plain": [
       "ade           1\n",
       "bisi          2\n",
       "caro          3\n",
       "dayo          4\n",
       "Elizabeth     5\n",
       "femi          6\n",
       "gabby         7\n",
       "henry         8\n",
       "ireoluwa      9\n",
       "Jacob        10\n",
       "dtype: int64"
      ]
     },
     "execution_count": 4,
     "metadata": {},
     "output_type": "execute_result"
    }
   ],
   "source": [
    "# Create a series object from a list of 10 items using a customized index values\n",
    "student_id = pd.Series([1, 2, 3, 4, 5, 6, 7, 8, 9, 10], index = ['ade', 'bisi', 'caro', 'dayo', 'Elizabeth', 'femi', 'gabby', 'henry', 'ireoluwa', 'Jacob'])\n",
    "student_id"
   ]
  },
  {
   "cell_type": "code",
   "execution_count": 7,
   "metadata": {},
   "outputs": [
    {
     "data": {
      "text/plain": [
       "ade           100\n",
       "bisi          200\n",
       "caro          300\n",
       "dayo          400\n",
       "elizabeth     500\n",
       "femi          600\n",
       "gabby         700\n",
       "henry         800\n",
       "ireoluwa      900\n",
       "jacob        1000\n",
       "dtype: int64"
      ]
     },
     "execution_count": 7,
     "metadata": {},
     "output_type": "execute_result"
    }
   ],
   "source": [
    "# Create a Series object from a dictionary of 10 items \n",
    "std_id = pd.Series({'ade':100, 'bisi':200, 'caro':300, 'dayo':400, 'elizabeth':500, 'femi':600, 'gabby':700, 'henry':800, 'ireoluwa':900, 'jacob':1000})\n",
    "std_id"
   ]
  },
  {
   "cell_type": "code",
   "execution_count": 25,
   "metadata": {},
   "outputs": [
    {
     "data": {
      "text/html": [
       "<div>\n",
       "<style scoped>\n",
       "    .dataframe tbody tr th:only-of-type {\n",
       "        vertical-align: middle;\n",
       "    }\n",
       "\n",
       "    .dataframe tbody tr th {\n",
       "        vertical-align: top;\n",
       "    }\n",
       "\n",
       "    .dataframe thead th {\n",
       "        text-align: right;\n",
       "    }\n",
       "</style>\n",
       "<table border=\"1\" class=\"dataframe\">\n",
       "  <thead>\n",
       "    <tr style=\"text-align: right;\">\n",
       "      <th></th>\n",
       "      <th>Score</th>\n",
       "    </tr>\n",
       "  </thead>\n",
       "  <tbody>\n",
       "    <tr>\n",
       "      <th>ade</th>\n",
       "      <td>100</td>\n",
       "    </tr>\n",
       "    <tr>\n",
       "      <th>bisi</th>\n",
       "      <td>200</td>\n",
       "    </tr>\n",
       "    <tr>\n",
       "      <th>caro</th>\n",
       "      <td>300</td>\n",
       "    </tr>\n",
       "    <tr>\n",
       "      <th>dayo</th>\n",
       "      <td>400</td>\n",
       "    </tr>\n",
       "    <tr>\n",
       "      <th>elizabeth</th>\n",
       "      <td>500</td>\n",
       "    </tr>\n",
       "    <tr>\n",
       "      <th>femi</th>\n",
       "      <td>600</td>\n",
       "    </tr>\n",
       "    <tr>\n",
       "      <th>gabby</th>\n",
       "      <td>700</td>\n",
       "    </tr>\n",
       "    <tr>\n",
       "      <th>henry</th>\n",
       "      <td>800</td>\n",
       "    </tr>\n",
       "    <tr>\n",
       "      <th>ireoluwa</th>\n",
       "      <td>900</td>\n",
       "    </tr>\n",
       "    <tr>\n",
       "      <th>jacob</th>\n",
       "      <td>1000</td>\n",
       "    </tr>\n",
       "  </tbody>\n",
       "</table>\n",
       "</div>"
      ],
      "text/plain": [
       "           Score\n",
       "ade          100\n",
       "bisi         200\n",
       "caro         300\n",
       "dayo         400\n",
       "elizabeth    500\n",
       "femi         600\n",
       "gabby        700\n",
       "henry        800\n",
       "ireoluwa     900\n",
       "jacob       1000"
      ]
     },
     "execution_count": 25,
     "metadata": {},
     "output_type": "execute_result"
    }
   ],
   "source": [
    "#  Create a DataFrame object from a series object with customized index values\n",
    "std_id = pd.Series({'ade':100, 'bisi':200, 'caro':300, 'dayo':400, 'elizabeth':500, 'femi':600, 'gabby':700, 'henry':800, 'ireoluwa':900, 'jacob':1000})\n",
    "student_score = pd.DataFrame({'Score': std_id})\n",
    "student_score"
   ]
  },
  {
   "cell_type": "code",
   "execution_count": 19,
   "metadata": {},
   "outputs": [
    {
     "data": {
      "text/html": [
       "<div>\n",
       "<style scoped>\n",
       "    .dataframe tbody tr th:only-of-type {\n",
       "        vertical-align: middle;\n",
       "    }\n",
       "\n",
       "    .dataframe tbody tr th {\n",
       "        vertical-align: top;\n",
       "    }\n",
       "\n",
       "    .dataframe thead th {\n",
       "        text-align: right;\n",
       "    }\n",
       "</style>\n",
       "<table border=\"1\" class=\"dataframe\">\n",
       "  <thead>\n",
       "    <tr style=\"text-align: right;\">\n",
       "      <th></th>\n",
       "      <th>Mathematics</th>\n",
       "      <th>English</th>\n",
       "      <th>Chemistry</th>\n",
       "      <th>Physics</th>\n",
       "      <th>Biology</th>\n",
       "    </tr>\n",
       "  </thead>\n",
       "  <tbody>\n",
       "    <tr>\n",
       "      <th>Ade</th>\n",
       "      <td>99</td>\n",
       "      <td>92</td>\n",
       "      <td>33</td>\n",
       "      <td>95</td>\n",
       "      <td>90</td>\n",
       "    </tr>\n",
       "    <tr>\n",
       "      <th>Bisi</th>\n",
       "      <td>58</td>\n",
       "      <td>53</td>\n",
       "      <td>55</td>\n",
       "      <td>50</td>\n",
       "      <td>48</td>\n",
       "    </tr>\n",
       "    <tr>\n",
       "      <th>Caro</th>\n",
       "      <td>38</td>\n",
       "      <td>48</td>\n",
       "      <td>70</td>\n",
       "      <td>96</td>\n",
       "      <td>90</td>\n",
       "    </tr>\n",
       "    <tr>\n",
       "      <th>Dayo</th>\n",
       "      <td>97</td>\n",
       "      <td>62</td>\n",
       "      <td>55</td>\n",
       "      <td>94</td>\n",
       "      <td>72</td>\n",
       "    </tr>\n",
       "    <tr>\n",
       "      <th>Ellen</th>\n",
       "      <td>38</td>\n",
       "      <td>79</td>\n",
       "      <td>98</td>\n",
       "      <td>59</td>\n",
       "      <td>42</td>\n",
       "    </tr>\n",
       "  </tbody>\n",
       "</table>\n",
       "</div>"
      ],
      "text/plain": [
       "       Mathematics  English  Chemistry  Physics  Biology\n",
       "Ade             99       92         33       95       90\n",
       "Bisi            58       53         55       50       48\n",
       "Caro            38       48         70       96       90\n",
       "Dayo            97       62         55       94       72\n",
       "Ellen           38       79         98       59       42"
      ]
     },
     "execution_count": 19,
     "metadata": {},
     "output_type": "execute_result"
    }
   ],
   "source": [
    "# Create a DataFrame object generated from random values of 5 rows and 5 columns numpy array. Give each column a title and each index a name\n",
    "student = pd.DataFrame(np.random.randint(30,100,(5,5)), columns=['Mathematics', 'English', 'Chemistry', 'Physics',\n",
    "                        'Biology'], index=['Ade', 'Bisi', 'Caro', 'Dayo', 'Ellen'])\n",
    "student"
   ]
  },
  {
   "cell_type": "code",
   "execution_count": 21,
   "metadata": {},
   "outputs": [
    {
     "data": {
      "text/plain": [
       "array([[99, 92, 33, 95, 90],\n",
       "       [58, 53, 55, 50, 48],\n",
       "       [38, 48, 70, 96, 90],\n",
       "       [97, 62, 55, 94, 72],\n",
       "       [38, 79, 98, 59, 42]])"
      ]
     },
     "execution_count": 21,
     "metadata": {},
     "output_type": "execute_result"
    }
   ],
   "source": [
    "#  Separate the DataFrame in (4) to its individual index , values and columns\n",
    "value = student.values\n",
    "value"
   ]
  },
  {
   "cell_type": "code",
   "execution_count": 22,
   "metadata": {},
   "outputs": [
    {
     "data": {
      "text/plain": [
       "Index(['Ade', 'Bisi', 'Caro', 'Dayo', 'Ellen'], dtype='object')"
      ]
     },
     "execution_count": 22,
     "metadata": {},
     "output_type": "execute_result"
    }
   ],
   "source": [
    "ind = student.index\n",
    "ind"
   ]
  },
  {
   "cell_type": "code",
   "execution_count": 24,
   "metadata": {},
   "outputs": [
    {
     "data": {
      "text/plain": [
       "Index(['Mathematics', 'English', 'Chemistry', 'Physics', 'Biology'], dtype='object')"
      ]
     },
     "execution_count": 24,
     "metadata": {},
     "output_type": "execute_result"
    }
   ],
   "source": [
    "col = student.columns\n",
    "col"
   ]
  }
 ],
 "metadata": {
  "kernelspec": {
   "display_name": "Python 3",
   "language": "python",
   "name": "python3"
  },
  "language_info": {
   "codemirror_mode": {
    "name": "ipython",
    "version": 3
   },
   "file_extension": ".py",
   "mimetype": "text/x-python",
   "name": "python",
   "nbconvert_exporter": "python",
   "pygments_lexer": "ipython3",
   "version": "3.7.6"
  }
 },
 "nbformat": 4,
 "nbformat_minor": 4
}
